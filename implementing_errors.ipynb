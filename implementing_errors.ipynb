{
  "nbformat": 4,
  "nbformat_minor": 0,
  "metadata": {
    "colab": {
      "provenance": [],
      "authorship_tag": "ABX9TyOPJwR7zTjm70t0W2DYBI0Z",
      "include_colab_link": true
    },
    "kernelspec": {
      "name": "python3",
      "display_name": "Python 3"
    },
    "language_info": {
      "name": "python"
    }
  },
  "cells": [
    {
      "cell_type": "markdown",
      "metadata": {
        "id": "view-in-github",
        "colab_type": "text"
      },
      "source": [
        "<a href=\"https://colab.research.google.com/github/sk1252k5/deeplearning_TF_Keras/blob/main/implementing_errors.ipynb\" target=\"_parent\"><img src=\"https://colab.research.google.com/assets/colab-badge.svg\" alt=\"Open In Colab\"/></a>"
      ]
    },
    {
      "cell_type": "markdown",
      "source": [
        "Implemented the basic losses like MSe,MAE,Binary crosentropy loss"
      ],
      "metadata": {
        "id": "Yolq2H98Fyl9"
      }
    },
    {
      "cell_type": "code",
      "source": [
        "import numpy as np\n",
        "y_true = np.array([0,1,1,0,1,0])\n",
        "y_predicted = np.array([0.3,0.7,1,0.1,0.23,0.4])"
      ],
      "metadata": {
        "id": "jrkBRq1y0vIR"
      },
      "execution_count": null,
      "outputs": []
    },
    {
      "cell_type": "code",
      "source": [
        "def MAE(y_true,y_predicted):\n",
        "  return np.sum(np.abs(y_true - y_predicted)) / len(y_true)"
      ],
      "metadata": {
        "id": "ZjTRNTMJoviP"
      },
      "execution_count": null,
      "outputs": []
    },
    {
      "cell_type": "code",
      "source": [
        "MAE(y_true,y_predicted)"
      ],
      "metadata": {
        "colab": {
          "base_uri": "https://localhost:8080/"
        },
        "id": "GEEFKRYQpI7n",
        "outputId": "7d68ebe9-9c20-4ffb-fdf3-738978927bf0"
      },
      "execution_count": null,
      "outputs": [
        {
          "output_type": "execute_result",
          "data": {
            "text/plain": [
              "0.3116666666666667"
            ]
          },
          "metadata": {},
          "execution_count": 4
        }
      ]
    },
    {
      "cell_type": "code",
      "source": [
        "def MSE(y_true,y_predicted):\n",
        "  return np.sum(y_true - y_predicted)**2 / len(y_true)"
      ],
      "metadata": {
        "id": "Ek0_ZN4UpO-b"
      },
      "execution_count": null,
      "outputs": []
    },
    {
      "cell_type": "code",
      "source": [
        "MSE(y_true,y_predicted)"
      ],
      "metadata": {
        "colab": {
          "base_uri": "https://localhost:8080/"
        },
        "id": "Ot6_BTqXpgiN",
        "outputId": "3b6a96c4-358b-48d0-8ed6-bd045386e56f"
      },
      "execution_count": null,
      "outputs": [
        {
          "output_type": "execute_result",
          "data": {
            "text/plain": [
              "0.012150000000000001"
            ]
          },
          "metadata": {},
          "execution_count": 6
        }
      ]
    },
    {
      "cell_type": "code",
      "source": [
        "def mmae(y_true,y_predicted):\n",
        "  total_error = 0\n",
        "  for yt,yp in zip(y_true,y_predicted):\n",
        "    total_error +=abs(yt - yp)\n",
        "  return total_error / len(y_true)"
      ],
      "metadata": {
        "id": "liMUbo9ypkt3"
      },
      "execution_count": null,
      "outputs": []
    },
    {
      "cell_type": "code",
      "source": [
        "mmae(y_true,y_predicted)"
      ],
      "metadata": {
        "colab": {
          "base_uri": "https://localhost:8080/"
        },
        "id": "hqMD-Iqfqw_V",
        "outputId": "e8279f4e-d56e-4764-cb6f-718c14fc0c17"
      },
      "execution_count": null,
      "outputs": [
        {
          "output_type": "execute_result",
          "data": {
            "text/plain": [
              "0.3116666666666667"
            ]
          },
          "metadata": {},
          "execution_count": 8
        }
      ]
    },
    {
      "cell_type": "code",
      "source": [
        "np.log(0.0000000000000001)"
      ],
      "metadata": {
        "id": "bSHKhXhkq0vR",
        "colab": {
          "base_uri": "https://localhost:8080/"
        },
        "outputId": "7b3629a3-0f4c-44d2-c848-1bf6f2e73ab7"
      },
      "execution_count": null,
      "outputs": [
        {
          "output_type": "execute_result",
          "data": {
            "text/plain": [
              "-36.841361487904734"
            ]
          },
          "metadata": {},
          "execution_count": 10
        }
      ]
    },
    {
      "cell_type": "code",
      "source": [
        "epsilon = 1e-10"
      ],
      "metadata": {
        "id": "_MaC930G2-yr"
      },
      "execution_count": null,
      "outputs": []
    },
    {
      "cell_type": "code",
      "source": [
        "y_predicted = np.array([0,1,1,0,1,0])"
      ],
      "metadata": {
        "id": "EXjew9077ei0"
      },
      "execution_count": null,
      "outputs": []
    },
    {
      "cell_type": "code",
      "source": [
        "y_predicted_new = [max(i,epsilon) for i in y_predicted]\n",
        "y_predicted_new"
      ],
      "metadata": {
        "colab": {
          "base_uri": "https://localhost:8080/"
        },
        "id": "kshiPWBn68Dk",
        "outputId": "377d2cf1-dbe7-48e5-e1dc-1f33df39bed5"
      },
      "execution_count": null,
      "outputs": [
        {
          "output_type": "execute_result",
          "data": {
            "text/plain": [
              "[1e-10, 1, 1, 1e-10, 1, 1e-10]"
            ]
          },
          "metadata": {},
          "execution_count": 19
        }
      ]
    },
    {
      "cell_type": "code",
      "source": [
        "y_predicted_new = [min(i,1 - epsilon) for i in y_predicted_new]\n",
        "y_predicted_new"
      ],
      "metadata": {
        "colab": {
          "base_uri": "https://localhost:8080/"
        },
        "id": "VpGABP5Y7Mb7",
        "outputId": "c7902061-7003-42cf-bd3e-ef04def5b028"
      },
      "execution_count": null,
      "outputs": [
        {
          "output_type": "execute_result",
          "data": {
            "text/plain": [
              "[1e-10, 0.9999999999, 0.9999999999, 1e-10, 0.9999999999, 1e-10]"
            ]
          },
          "metadata": {},
          "execution_count": 20
        }
      ]
    },
    {
      "cell_type": "code",
      "source": [
        "y_predicted_new = np.array(y_predicted_new)\n",
        "np.log(y_predicted_new)"
      ],
      "metadata": {
        "colab": {
          "base_uri": "https://localhost:8080/"
        },
        "id": "RvvcKRY47uuh",
        "outputId": "5ffeff8d-349c-402e-d21c-c6c9718cd045"
      },
      "execution_count": null,
      "outputs": [
        {
          "output_type": "execute_result",
          "data": {
            "text/plain": [
              "array([-2.30258509e+01, -1.00000008e-10, -1.00000008e-10, -2.30258509e+01,\n",
              "       -1.00000008e-10, -2.30258509e+01])"
            ]
          },
          "metadata": {},
          "execution_count": 21
        }
      ]
    },
    {
      "cell_type": "code",
      "source": [
        "def log_loss(y_true,y_predicted):\n",
        "  y_predicted_new = [max(i,epsilon) for i in y_predicted]\n",
        "  y_predicted_new = [min(i,1 - epsilon) for i in y_predicted_new]\n",
        "  y_predicted_new = np.array(y_predicted_new)\n",
        "  return  - np.sum(y_true * np.log(y_predicted_new) + (1 - y_true)*np.log(1 - y_predicted_new)) / len(y_true)"
      ],
      "metadata": {
        "id": "Y7xoABW_8QRB"
      },
      "execution_count": null,
      "outputs": []
    },
    {
      "cell_type": "code",
      "source": [
        "log_loss(y_true,y_predicted)"
      ],
      "metadata": {
        "colab": {
          "base_uri": "https://localhost:8080/"
        },
        "id": "VAqtWeR-I9oW",
        "outputId": "6f9723b7-4cf9-48b2-a98d-42f8abacbbc7"
      },
      "execution_count": null,
      "outputs": [
        {
          "output_type": "execute_result",
          "data": {
            "text/plain": [
              "1.000000082790371e-10"
            ]
          },
          "metadata": {},
          "execution_count": 29
        }
      ]
    },
    {
      "cell_type": "code",
      "source": [],
      "metadata": {
        "id": "rhr_5IBFJDVC"
      },
      "execution_count": null,
      "outputs": []
    }
  ]
}